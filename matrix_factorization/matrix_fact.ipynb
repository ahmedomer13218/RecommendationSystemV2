{
 "cells": [
  {
   "cell_type": "code",
   "execution_count": 11,
   "metadata": {},
   "outputs": [],
   "source": [
    "import pandas as pd \n",
    "import pickle\n",
    "import numpy as np\n",
    "import matplotlib.pyplot as plt\n",
    "from collections import Counter\n",
    "from sklearn.utils import shuffle\n",
    "from scipy.sparse import lil_matrix, csr_matrix, save_npz, load_npz\n",
    "from sortedcontainers import SortedList\n",
    "from keras.models import Model\n",
    "from keras.layers import Input, Embedding, Dot, Add, Flatten\n",
    "from keras.regularizers import l2\n",
    "from keras.optimizers import SGD, Adam"
   ]
  },
  {
   "cell_type": "code",
   "execution_count": 2,
   "metadata": {},
   "outputs": [],
   "source": [
    "df=pd.read_csv('../data/edited_rating.csv')"
   ]
  },
  {
   "cell_type": "code",
   "execution_count": 3,
   "metadata": {},
   "outputs": [
    {
     "name": "stdout",
     "output_type": "stream",
     "text": [
      "6040 3706\n"
     ]
    }
   ],
   "source": [
    "N = df.User.max() + 1 # number of users\n",
    "M = df.movie_idx.max() + 1 # number of movies\n",
    "print(N,M)"
   ]
  },
  {
   "cell_type": "markdown",
   "metadata": {},
   "source": [
    "# Split data \n"
   ]
  },
  {
   "cell_type": "code",
   "execution_count": 4,
   "metadata": {},
   "outputs": [],
   "source": [
    "# split into train and test\n",
    "df = shuffle(df)\n",
    "cutoff = int(0.8*len(df))\n",
    "df_train = df.iloc[:cutoff]\n",
    "df_test = df.iloc[cutoff:]"
   ]
  },
  {
   "cell_type": "markdown",
   "metadata": {},
   "source": [
    "# Model"
   ]
  },
  {
   "cell_type": "code",
   "execution_count": 6,
   "metadata": {},
   "outputs": [],
   "source": [
    "# initialize variables\n",
    "K = 10 # latent dimensionality\n",
    "mu = df_train.Rating.mean() # global average \n",
    "epochs = 15"
   ]
  },
  {
   "cell_type": "code",
   "execution_count": 23,
   "metadata": {},
   "outputs": [],
   "source": [
    "# keras model\n",
    "u = Input(shape=(1,))\n",
    "m = Input(shape=(1,))\n",
    "\n",
    "u_embedding = Embedding(N, K, embeddings_regularizer=l2(0))(u) # (N, 1, K)\n",
    "m_embedding = Embedding(M, K, embeddings_regularizer=l2(0))(m) # (N, 1, K)\n",
    "\n",
    "u_bias = Embedding(N, 1, embeddings_regularizer=l2(0))(u) # (N, 1, 1)\n",
    "m_bias = Embedding(M, 1, embeddings_regularizer=l2(0))(m) # (N, 1, 1)\n",
    "\n",
    "x = Dot(axes=2)([u_embedding, m_embedding]) # (N, 1, 1)\n",
    "x = Add()([x, u_bias, m_bias])\n",
    "x = Flatten()(x) # (N, 1)"
   ]
  },
  {
   "cell_type": "code",
   "execution_count": 35,
   "metadata": {},
   "outputs": [],
   "source": [
    "model = Model(inputs=[u, m], outputs=x)\n",
    "model.compile(\n",
    "  loss='mse',\n",
    "  optimizer=SGD(learning_rate=0.01, momentum=0.9),\n",
    "  metrics=['mse'],\n",
    ") # loss & metrics are mse -> will not be the same if we use regularization "
   ]
  },
  {
   "cell_type": "code",
   "execution_count": 36,
   "metadata": {},
   "outputs": [
    {
     "name": "stdout",
     "output_type": "stream",
     "text": [
      "Epoch 1/30\n",
      "\u001b[1m6252/6252\u001b[0m \u001b[32m━━━━━━━━━━━━━━━━━━━━\u001b[0m\u001b[37m\u001b[0m \u001b[1m6s\u001b[0m 821us/step - loss: 0.7767 - mse: 0.7767 - val_loss: 0.7967 - val_mse: 0.7967\n",
      "Epoch 2/30\n",
      "\u001b[1m6252/6252\u001b[0m \u001b[32m━━━━━━━━━━━━━━━━━━━━\u001b[0m\u001b[37m\u001b[0m \u001b[1m5s\u001b[0m 800us/step - loss: 0.7727 - mse: 0.7727 - val_loss: 0.7939 - val_mse: 0.7939\n",
      "Epoch 3/30\n",
      "\u001b[1m6252/6252\u001b[0m \u001b[32m━━━━━━━━━━━━━━━━━━━━\u001b[0m\u001b[37m\u001b[0m \u001b[1m5s\u001b[0m 844us/step - loss: 0.7665 - mse: 0.7665 - val_loss: 0.7911 - val_mse: 0.7911\n",
      "Epoch 4/30\n",
      "\u001b[1m6252/6252\u001b[0m \u001b[32m━━━━━━━━━━━━━━━━━━━━\u001b[0m\u001b[37m\u001b[0m \u001b[1m5s\u001b[0m 810us/step - loss: 0.7599 - mse: 0.7599 - val_loss: 0.7883 - val_mse: 0.7883\n",
      "Epoch 5/30\n",
      "\u001b[1m6252/6252\u001b[0m \u001b[32m━━━━━━━━━━━━━━━━━━━━\u001b[0m\u001b[37m\u001b[0m \u001b[1m5s\u001b[0m 816us/step - loss: 0.7559 - mse: 0.7559 - val_loss: 0.7856 - val_mse: 0.7856\n",
      "Epoch 6/30\n",
      "\u001b[1m6252/6252\u001b[0m \u001b[32m━━━━━━━━━━━━━━━━━━━━\u001b[0m\u001b[37m\u001b[0m \u001b[1m6s\u001b[0m 899us/step - loss: 0.7520 - mse: 0.7520 - val_loss: 0.7831 - val_mse: 0.7831\n",
      "Epoch 7/30\n",
      "\u001b[1m6252/6252\u001b[0m \u001b[32m━━━━━━━━━━━━━━━━━━━━\u001b[0m\u001b[37m\u001b[0m \u001b[1m6s\u001b[0m 908us/step - loss: 0.7462 - mse: 0.7462 - val_loss: 0.7805 - val_mse: 0.7805\n",
      "Epoch 8/30\n",
      "\u001b[1m6252/6252\u001b[0m \u001b[32m━━━━━━━━━━━━━━━━━━━━\u001b[0m\u001b[37m\u001b[0m \u001b[1m6s\u001b[0m 899us/step - loss: 0.7431 - mse: 0.7431 - val_loss: 0.7781 - val_mse: 0.7781\n",
      "Epoch 9/30\n",
      "\u001b[1m6252/6252\u001b[0m \u001b[32m━━━━━━━━━━━━━━━━━━━━\u001b[0m\u001b[37m\u001b[0m \u001b[1m5s\u001b[0m 835us/step - loss: 0.7393 - mse: 0.7393 - val_loss: 0.7757 - val_mse: 0.7757\n",
      "Epoch 10/30\n",
      "\u001b[1m6252/6252\u001b[0m \u001b[32m━━━━━━━━━━━━━━━━━━━━\u001b[0m\u001b[37m\u001b[0m \u001b[1m5s\u001b[0m 809us/step - loss: 0.7337 - mse: 0.7337 - val_loss: 0.7735 - val_mse: 0.7735\n",
      "Epoch 11/30\n",
      "\u001b[1m6252/6252\u001b[0m \u001b[32m━━━━━━━━━━━━━━━━━━━━\u001b[0m\u001b[37m\u001b[0m \u001b[1m5s\u001b[0m 873us/step - loss: 0.7279 - mse: 0.7279 - val_loss: 0.7716 - val_mse: 0.7716\n",
      "Epoch 12/30\n",
      "\u001b[1m6252/6252\u001b[0m \u001b[32m━━━━━━━━━━━━━━━━━━━━\u001b[0m\u001b[37m\u001b[0m \u001b[1m5s\u001b[0m 828us/step - loss: 0.7241 - mse: 0.7241 - val_loss: 0.7696 - val_mse: 0.7696\n",
      "Epoch 13/30\n",
      "\u001b[1m6252/6252\u001b[0m \u001b[32m━━━━━━━━━━━━━━━━━━━━\u001b[0m\u001b[37m\u001b[0m \u001b[1m5s\u001b[0m 813us/step - loss: 0.7199 - mse: 0.7199 - val_loss: 0.7678 - val_mse: 0.7678\n",
      "Epoch 14/30\n",
      "\u001b[1m6252/6252\u001b[0m \u001b[32m━━━━━━━━━━━━━━━━━━━━\u001b[0m\u001b[37m\u001b[0m \u001b[1m5s\u001b[0m 818us/step - loss: 0.7176 - mse: 0.7176 - val_loss: 0.7661 - val_mse: 0.7661\n",
      "Epoch 15/30\n",
      "\u001b[1m6252/6252\u001b[0m \u001b[32m━━━━━━━━━━━━━━━━━━━━\u001b[0m\u001b[37m\u001b[0m \u001b[1m5s\u001b[0m 834us/step - loss: 0.7109 - mse: 0.7109 - val_loss: 0.7646 - val_mse: 0.7646\n",
      "Epoch 16/30\n",
      "\u001b[1m6252/6252\u001b[0m \u001b[32m━━━━━━━━━━━━━━━━━━━━\u001b[0m\u001b[37m\u001b[0m \u001b[1m5s\u001b[0m 841us/step - loss: 0.7083 - mse: 0.7083 - val_loss: 0.7632 - val_mse: 0.7632\n",
      "Epoch 17/30\n",
      "\u001b[1m6252/6252\u001b[0m \u001b[32m━━━━━━━━━━━━━━━━━━━━\u001b[0m\u001b[37m\u001b[0m \u001b[1m5s\u001b[0m 811us/step - loss: 0.7057 - mse: 0.7057 - val_loss: 0.7619 - val_mse: 0.7619\n",
      "Epoch 18/30\n",
      "\u001b[1m6252/6252\u001b[0m \u001b[32m━━━━━━━━━━━━━━━━━━━━\u001b[0m\u001b[37m\u001b[0m \u001b[1m5s\u001b[0m 797us/step - loss: 0.7021 - mse: 0.7021 - val_loss: 0.7607 - val_mse: 0.7607\n",
      "Epoch 19/30\n",
      "\u001b[1m6252/6252\u001b[0m \u001b[32m━━━━━━━━━━━━━━━━━━━━\u001b[0m\u001b[37m\u001b[0m \u001b[1m5s\u001b[0m 790us/step - loss: 0.6971 - mse: 0.6971 - val_loss: 0.7596 - val_mse: 0.7596\n",
      "Epoch 20/30\n",
      "\u001b[1m6252/6252\u001b[0m \u001b[32m━━━━━━━━━━━━━━━━━━━━\u001b[0m\u001b[37m\u001b[0m \u001b[1m5s\u001b[0m 824us/step - loss: 0.6937 - mse: 0.6937 - val_loss: 0.7586 - val_mse: 0.7586\n",
      "Epoch 21/30\n",
      "\u001b[1m6252/6252\u001b[0m \u001b[32m━━━━━━━━━━━━━━━━━━━━\u001b[0m\u001b[37m\u001b[0m \u001b[1m5s\u001b[0m 825us/step - loss: 0.6895 - mse: 0.6895 - val_loss: 0.7577 - val_mse: 0.7577\n",
      "Epoch 22/30\n",
      "\u001b[1m6252/6252\u001b[0m \u001b[32m━━━━━━━━━━━━━━━━━━━━\u001b[0m\u001b[37m\u001b[0m \u001b[1m5s\u001b[0m 809us/step - loss: 0.6853 - mse: 0.6853 - val_loss: 0.7568 - val_mse: 0.7568\n",
      "Epoch 23/30\n",
      "\u001b[1m6252/6252\u001b[0m \u001b[32m━━━━━━━━━━━━━━━━━━━━\u001b[0m\u001b[37m\u001b[0m \u001b[1m5s\u001b[0m 829us/step - loss: 0.6855 - mse: 0.6855 - val_loss: 0.7561 - val_mse: 0.7561\n",
      "Epoch 24/30\n",
      "\u001b[1m6252/6252\u001b[0m \u001b[32m━━━━━━━━━━━━━━━━━━━━\u001b[0m\u001b[37m\u001b[0m \u001b[1m5s\u001b[0m 801us/step - loss: 0.6799 - mse: 0.6799 - val_loss: 0.7554 - val_mse: 0.7554\n",
      "Epoch 25/30\n",
      "\u001b[1m6252/6252\u001b[0m \u001b[32m━━━━━━━━━━━━━━━━━━━━\u001b[0m\u001b[37m\u001b[0m \u001b[1m5s\u001b[0m 800us/step - loss: 0.6790 - mse: 0.6790 - val_loss: 0.7548 - val_mse: 0.7548\n",
      "Epoch 26/30\n",
      "\u001b[1m6252/6252\u001b[0m \u001b[32m━━━━━━━━━━━━━━━━━━━━\u001b[0m\u001b[37m\u001b[0m \u001b[1m5s\u001b[0m 785us/step - loss: 0.6744 - mse: 0.6744 - val_loss: 0.7542 - val_mse: 0.7542\n",
      "Epoch 27/30\n",
      "\u001b[1m6252/6252\u001b[0m \u001b[32m━━━━━━━━━━━━━━━━━━━━\u001b[0m\u001b[37m\u001b[0m \u001b[1m5s\u001b[0m 843us/step - loss: 0.6736 - mse: 0.6736 - val_loss: 0.7537 - val_mse: 0.7537\n",
      "Epoch 28/30\n",
      "\u001b[1m6252/6252\u001b[0m \u001b[32m━━━━━━━━━━━━━━━━━━━━\u001b[0m\u001b[37m\u001b[0m \u001b[1m5s\u001b[0m 856us/step - loss: 0.6714 - mse: 0.6714 - val_loss: 0.7533 - val_mse: 0.7533\n",
      "Epoch 29/30\n",
      "\u001b[1m6252/6252\u001b[0m \u001b[32m━━━━━━━━━━━━━━━━━━━━\u001b[0m\u001b[37m\u001b[0m \u001b[1m6s\u001b[0m 930us/step - loss: 0.6660 - mse: 0.6660 - val_loss: 0.7529 - val_mse: 0.7529\n",
      "Epoch 30/30\n",
      "\u001b[1m6252/6252\u001b[0m \u001b[32m━━━━━━━━━━━━━━━━━━━━\u001b[0m\u001b[37m\u001b[0m \u001b[1m6s\u001b[0m 923us/step - loss: 0.6634 - mse: 0.6634 - val_loss: 0.7525 - val_mse: 0.7525\n"
     ]
    }
   ],
   "source": [
    "history = model.fit(\n",
    "  x=[df_train.User.values, df_train.movie_idx.values],\n",
    "  y=df_train.Rating.values - mu,\n",
    "  epochs=30,\n",
    "  batch_size=128,\n",
    "  validation_data=(\n",
    "    [df_test.User.values, df_test.movie_idx.values],\n",
    "    df_test.Rating.values - mu\n",
    "  )\n",
    ")"
   ]
  },
  {
   "cell_type": "code",
   "execution_count": 37,
   "metadata": {},
   "outputs": [
    {
     "data": {
      "image/png": "[encoded data removed]",
      "text/plain": [
       "<Figure size 640x480 with 1 Axes>"
      ]
     },
     "metadata": {},
     "output_type": "display_data"
    }
   ],
   "source": [
    "# plot losses\n",
    "plt.plot(history.history['loss'], label=\"train loss\")\n",
    "plt.plot(history.history['val_loss'], label=\"test loss\")\n",
    "plt.legend()\n",
    "plt.show()\n"
   ]
  },
  {
   "cell_type": "code",
   "execution_count": 38,
   "metadata": {},
   "outputs": [
    {
     "data": {
      "image/png": "[encoded data removed]",
      "text/plain": [
       "<Figure size 640x480 with 1 Axes>"
      ]
     },
     "metadata": {},
     "output_type": "display_data"
    }
   ],
   "source": [
    "# plot mse\n",
    "plt.plot(history.history['mse'], label=\"train mse\")\n",
    "plt.plot(history.history['val_mse'], label=\"test mse\")\n",
    "plt.legend()\n",
    "plt.show()"
   ]
  },
  {
   "cell_type": "code",
   "execution_count": 41,
   "metadata": {},
   "outputs": [
    {
     "name": "stderr",
     "output_type": "stream",
     "text": [
      "WARNING:absl:You are saving your model as an HDF5 file via `model.save()` or `keras.saving.save_model(model)`. This file format is considered legacy. We recommend using instead the native Keras format, e.g. `model.save('my_model.keras')` or `keras.saving.save_model(model, 'my_model.keras')`. \n"
     ]
    }
   ],
   "source": [
    "model.save('MF_model.h5') \n",
    "\n",
    "with open('mu.pkl', 'wb') as f:\n",
    "    pickle.dump(mu, f)"
   ]
  },
  {
   "cell_type": "markdown",
   "metadata": {},
   "source": [
    "# single prediction "
   ]
  },
  {
   "cell_type": "code",
   "execution_count": 45,
   "metadata": {},
   "outputs": [],
   "source": [
    "from tensorflow.keras.models import load_model\n",
    "from tensorflow.keras.metrics import MeanSquaredError"
   ]
  },
  {
   "cell_type": "code",
   "execution_count": 46,
   "metadata": {},
   "outputs": [
    {
     "name": "stderr",
     "output_type": "stream",
     "text": [
      "WARNING:absl:Compiled the loaded model, but the compiled metrics have yet to be built. `model.compile_metrics` will be empty until you train or evaluate the model.\n"
     ]
    }
   ],
   "source": [
    "model = load_model('MF_model.h5', custom_objects={'mse': MeanSquaredError()})\n",
    "\n",
    "with open('mu.pkl', 'rb') as f:\n",
    "  mu = pickle.load(f)"
   ]
  },
  {
   "cell_type": "code",
   "execution_count": 51,
   "metadata": {},
   "outputs": [],
   "source": [
    "def predict_single_rating(model, user_id, movie_id, mu):\n",
    "    \"\"\"\n",
    "    Function to predict the rating for a specific user and movie.\n",
    "    \n",
    "    Parameters:\n",
    "    - model: Trained Keras model\n",
    "    - user_id: ID of the user (int)\n",
    "    - movie_id: ID of the movie (int)\n",
    "    - mu: Global mean rating (float)\n",
    "    \n",
    "    Returns:\n",
    "    - final_predicted_rating: Predicted rating (float)\n",
    "    \"\"\"\n",
    "    # Prepare inputs for the model (as arrays)\n",
    "    user_input = np.array([user_id])  # Shape should be (1,)\n",
    "    movie_input = np.array([movie_id])  # Shape should be (1,)\n",
    "\n",
    "    # Predict the rating deviation from the mean\n",
    "    predicted_rating = model.predict([user_input, movie_input])\n",
    "\n",
    "    # Add the global mean rating back to the prediction\n",
    "    final_predicted_rating = predicted_rating[0][0] + mu\n",
    "\n",
    "    return final_predicted_rating"
   ]
  },
  {
   "cell_type": "code",
   "execution_count": 73,
   "metadata": {},
   "outputs": [],
   "source": [
    "def existence(user_id , movie_id):\n",
    "    rate=df[(df.User == user_id) & (df.movie_idx == movie_id)].Rating.values\n",
    "    if len(rate)!=0:\n",
    "            print(f\"{(user_id, movie_id)} exists in the data with value : {rate[0]} \")\n",
    "    else:\n",
    "            print(f\"{(user_id, movie_id)} does not exist in the data \")"
   ]
  },
  {
   "cell_type": "code",
   "execution_count": 74,
   "metadata": {},
   "outputs": [
    {
     "name": "stdout",
     "output_type": "stream",
     "text": [
      "\u001b[1m1/1\u001b[0m \u001b[32m━━━━━━━━━━━━━━━━━━━━\u001b[0m\u001b[37m\u001b[0m \u001b[1m0s\u001b[0m 15ms/step\n",
      "3.436414852816428\n",
      "(799, 100) does not exist in the data \n"
     ]
    }
   ],
   "source": [
    "print(predict_single_rating(model, 799, 100, mu))\n",
    "existence(799, 100)"
   ]
  },
  {
   "cell_type": "code",
   "execution_count": 77,
   "metadata": {},
   "outputs": [
    {
     "name": "stdout",
     "output_type": "stream",
     "text": [
      "\u001b[1m1/1\u001b[0m \u001b[32m━━━━━━━━━━━━━━━━━━━━\u001b[0m\u001b[37m\u001b[0m \u001b[1m0s\u001b[0m 16ms/step\n",
      "4.182428106743659\n",
      "(3891, 890) exists in the data with value : 4 \n"
     ]
    }
   ],
   "source": [
    "print(predict_single_rating(model, 3891, 890, mu))\n",
    "existence(3891, 890)"
   ]
  },
  {
   "cell_type": "code",
   "execution_count": 78,
   "metadata": {},
   "outputs": [
    {
     "name": "stdout",
     "output_type": "stream",
     "text": [
      "\u001b[1m1/1\u001b[0m \u001b[32m━━━━━━━━━━━━━━━━━━━━\u001b[0m\u001b[37m\u001b[0m \u001b[1m0s\u001b[0m 14ms/step\n",
      "3.285359457213248\n",
      "(203, 3256) exists in the data with value : 3 \n"
     ]
    }
   ],
   "source": [
    "print(predict_single_rating(model, 203, 3256, mu))\n",
    "existence(203, 3256)"
   ]
  },
  {
   "cell_type": "code",
   "execution_count": null,
   "metadata": {},
   "outputs": [],
   "source": []
  }
 ],
 "metadata": {
  "kernelspec": {
   "display_name": "Python 3",
   "language": "python",
   "name": "python3"
  },
  "language_info": {
   "codemirror_mode": {
    "name": "ipython",
    "version": 3
   },
   "file_extension": ".py",
   "mimetype": "text/x-python",
   "name": "python",
   "nbconvert_exporter": "python",
   "pygments_lexer": "ipython3",
   "version": "3.12.0"
  }
 },
 "nbformat": 4,
 "nbformat_minor": 2
}
