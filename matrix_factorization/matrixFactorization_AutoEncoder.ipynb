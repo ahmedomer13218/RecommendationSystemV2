{
 "cells": [
  {
   "cell_type": "code",
   "execution_count": 2,
   "metadata": {},
   "outputs": [],
   "source": [
    "import pandas as pd \n",
    "import pickle\n",
    "import numpy as np\n",
    "import matplotlib.pyplot as plt\n",
    "from collections import Counter\n",
    "from sklearn.utils import shuffle\n",
    "from scipy.sparse import lil_matrix, csr_matrix, save_npz, load_npz\n",
    "from sortedcontainers import SortedList\n",
    "from tensorflow.keras.models import Model\n",
    "from tensorflow.keras.layers import Input, Dropout, Dense\n",
    "from tensorflow.keras.regularizers import l2\n",
    "from tensorflow.keras.optimizers import SGD\n",
    "import tensorflow as tf\n"
   ]
  },
  {
   "cell_type": "markdown",
   "metadata": {},
   "source": [
    "# Preprocessing "
   ]
  },
  {
   "cell_type": "code",
   "execution_count": 9,
   "metadata": {},
   "outputs": [],
   "source": [
    "df=pd.read_csv('../data/edited_rating.csv')"
   ]
  },
  {
   "cell_type": "code",
   "execution_count": 91,
   "metadata": {},
   "outputs": [
    {
     "name": "stdout",
     "output_type": "stream",
     "text": [
      "6040 3706\n"
     ]
    }
   ],
   "source": [
    "N = df.User.max() + 1 # number of users\n",
    "M = df.movie_idx.max() + 1 # number of movies\n",
    "print(N,M)"
   ]
  },
  {
   "cell_type": "markdown",
   "metadata": {},
   "source": [
    "# Split data \n"
   ]
  },
  {
   "cell_type": "code",
   "execution_count": 14,
   "metadata": {},
   "outputs": [],
   "source": [
    "# split into train and test\n",
    "df = shuffle(df)\n",
    "cutoff = int(0.8*len(df))\n",
    "df_train = df.iloc[:cutoff]\n",
    "df_test = df.iloc[cutoff:]"
   ]
  },
  {
   "cell_type": "markdown",
   "metadata": {},
   "source": [
    "## sparse matrix "
   ]
  },
  {
   "cell_type": "code",
   "execution_count": 93,
   "metadata": {},
   "outputs": [
    {
     "data": {
      "text/plain": [
       "693169    None\n",
       "542514    None\n",
       "168285    None\n",
       "491772    None\n",
       "717552    None\n",
       "          ... \n",
       "359502    None\n",
       "789407    None\n",
       "459487    None\n",
       "169733    None\n",
       "242444    None\n",
       "Length: 800167, dtype: object"
      ]
     },
     "execution_count": 93,
     "metadata": {},
     "output_type": "execute_result"
    }
   ],
   "source": [
    "A = lil_matrix((N, M))\n",
    "\n",
    "def update_train(row):\n",
    "  i = int(row.User)\n",
    "  j = int(row.movie_idx)\n",
    "  A[i,j] = row.Rating\n",
    "df_train.apply(update_train, axis=1)"
   ]
  },
  {
   "cell_type": "code",
   "execution_count": 94,
   "metadata": {},
   "outputs": [
    {
     "data": {
      "text/plain": [
       "46356     None\n",
       "879590    None\n",
       "472266    None\n",
       "206911    None\n",
       "522526    None\n",
       "          ... \n",
       "36626     None\n",
       "560188    None\n",
       "742968    None\n",
       "445839    None\n",
       "339454    None\n",
       "Length: 200042, dtype: object"
      ]
     },
     "execution_count": 94,
     "metadata": {},
     "output_type": "execute_result"
    }
   ],
   "source": [
    "A_test = lil_matrix((N, M))\n",
    "\n",
    "def update_test(row):\n",
    "  i = int(row.User)\n",
    "  j = int(row.movie_idx)\n",
    "  A_test[i,j] = row.Rating\n",
    "df_test.apply(update_test, axis=1)"
   ]
  },
  {
   "cell_type": "code",
   "execution_count": 95,
   "metadata": {},
   "outputs": [],
   "source": [
    "# train\n",
    "A = A.tocsr()\n",
    "mask = (A > 0)\n",
    "save_npz(\"Atrain.npz\", A)\n",
    "\n",
    "# test \n",
    "A_test = A_test.tocsr()\n",
    "mask_test = (A_test > 0)\n",
    "save_npz(\"Atest.npz\", A_test)"
   ]
  },
  {
   "cell_type": "markdown",
   "metadata": {},
   "source": [
    "# Model"
   ]
  },
  {
   "cell_type": "code",
   "execution_count": 96,
   "metadata": {},
   "outputs": [],
   "source": [
    "# initialize variables\n",
    "batch_size = 128\n",
    "epochs = 20\n",
    "reg = 0.0001"
   ]
  },
  {
   "cell_type": "code",
   "execution_count": 97,
   "metadata": {},
   "outputs": [],
   "source": [
    "A = load_npz(\"Atrain.npz\")\n",
    "A_test = load_npz(\"Atest.npz\")\n",
    "mask = (A > 0) * 1.0\n",
    "mask_test = (A_test > 0) * 1.0"
   ]
  },
  {
   "cell_type": "code",
   "execution_count": 98,
   "metadata": {},
   "outputs": [],
   "source": [
    "# make copies since we will shuffle\n",
    "A_copy = A.copy()\n",
    "mask_copy = mask.copy()\n",
    "A_test_copy = A_test.copy()\n",
    "mask_test_copy = mask_test.copy()"
   ]
  },
  {
   "cell_type": "code",
   "execution_count": 99,
   "metadata": {},
   "outputs": [
    {
     "name": "stdout",
     "output_type": "stream",
     "text": [
      "N: 6040 M: 3706\n",
      "N // batch_size: 47\n",
      "mu: 3.5821472267664127\n"
     ]
    }
   ],
   "source": [
    "N, M = A.shape\n",
    "print(\"N:\", N, \"M:\", M)\n",
    "print(\"N // batch_size:\", N // batch_size)\n",
    "\n",
    "# center the data\n",
    "mu = A.sum() / mask.sum()\n",
    "print(\"mu:\", mu)"
   ]
  },
  {
   "cell_type": "code",
   "execution_count": 80,
   "metadata": {},
   "outputs": [],
   "source": [
    "# build the model \n",
    "i = Input(shape=(M,))\n",
    "x = Dropout(0.7)(i)\n",
    "x = Dense(700, activation='tanh', kernel_regularizer=l2(reg))(x)\n",
    "x = Dense(M, kernel_regularizer=l2(reg))(x)"
   ]
  },
  {
   "cell_type": "code",
   "execution_count": 100,
   "metadata": {},
   "outputs": [],
   "source": [
    "def custom_loss(y_true, y_pred):\n",
    "    y_true = tf.cast(y_true, dtype=tf.float32)  # Ensure y_true is float32\n",
    "    mask = tf.cast(tf.not_equal(y_true, 0), dtype=tf.float32)\n",
    "    diff = y_pred - y_true\n",
    "    sqdiff = diff * diff * mask\n",
    "    sse = tf.reduce_sum(sqdiff)\n",
    "    n = tf.reduce_sum(mask)\n",
    "    return sse / n"
   ]
  },
  {
   "cell_type": "code",
   "execution_count": 101,
   "metadata": {},
   "outputs": [],
   "source": [
    "def generator(A, M):\n",
    "    while True:\n",
    "        A, M = shuffle(A, M)\n",
    "        for i in range(A.shape[0] // batch_size + 1):\n",
    "            upper = min((i+1)*batch_size, A.shape[0])\n",
    "            a = A[i*batch_size:upper].toarray()\n",
    "            m = M[i*batch_size:upper].toarray()\n",
    "            a = a - mu * m  # must keep zeros at zero!\n",
    "            noisy = a  # no noise for now\n",
    "            yield noisy, a"
   ]
  },
  {
   "cell_type": "code",
   "execution_count": 102,
   "metadata": {},
   "outputs": [],
   "source": [
    "def test_generator(A, M, A_test, M_test):\n",
    "    while True:\n",
    "        for i in range(A.shape[0] // batch_size + 1):\n",
    "            upper = min((i+1)*batch_size, A.shape[0])\n",
    "            a = A[i*batch_size:upper].toarray()\n",
    "            m = M[i*batch_size:upper].toarray()\n",
    "            at = A_test[i*batch_size:upper].toarray()\n",
    "            mt = M_test[i*batch_size:upper].toarray()\n",
    "            a = a - mu * m\n",
    "            at = at - mu * mt\n",
    "            yield a, at"
   ]
  },
  {
   "cell_type": "code",
   "execution_count": 81,
   "metadata": {},
   "outputs": [],
   "source": [
    "model = Model(i, x)\n",
    "model.compile(\n",
    "  loss=custom_loss,\n",
    "  optimizer=SGD(learning_rate=0.01, momentum=0.9),\n",
    "  metrics=[custom_loss],\n",
    ") # loss & metrics are mse -> will not be the same if we use regularization "
   ]
  },
  {
   "cell_type": "code",
   "execution_count": 82,
   "metadata": {},
   "outputs": [
    {
     "name": "stdout",
     "output_type": "stream",
     "text": [
      "Epoch 1/40\n",
      "\u001b[1m48/48\u001b[0m \u001b[32m━━━━━━━━━━━━━━━━━━━━\u001b[0m\u001b[37m\u001b[0m \u001b[1m3s\u001b[0m 59ms/step - custom_loss: 1.3282 - loss: 1.5635 - val_custom_loss: 1.2515 - val_loss: 1.4864\n",
      "Epoch 2/40\n",
      "\u001b[1m48/48\u001b[0m \u001b[32m━━━━━━━━━━━━━━━━━━━━\u001b[0m\u001b[37m\u001b[0m \u001b[1m3s\u001b[0m 55ms/step - custom_loss: 1.2842 - loss: 1.5191 - val_custom_loss: 1.2148 - val_loss: 1.4490\n",
      "Epoch 3/40\n",
      "\u001b[1m48/48\u001b[0m \u001b[32m━━━━━━━━━━━━━━━━━━━━\u001b[0m\u001b[37m\u001b[0m \u001b[1m3s\u001b[0m 56ms/step - custom_loss: 1.2429 - loss: 1.4771 - val_custom_loss: 1.1725 - val_loss: 1.4062\n",
      "Epoch 4/40\n",
      "\u001b[1m48/48\u001b[0m \u001b[32m━━━━━━━━━━━━━━━━━━━━\u001b[0m\u001b[37m\u001b[0m \u001b[1m3s\u001b[0m 56ms/step - custom_loss: 1.2028 - loss: 1.4363 - val_custom_loss: 1.1267 - val_loss: 1.3598\n",
      "Epoch 5/40\n",
      "\u001b[1m48/48\u001b[0m \u001b[32m━━━━━━━━━━━━━━━━━━━━\u001b[0m\u001b[37m\u001b[0m \u001b[1m3s\u001b[0m 58ms/step - custom_loss: 1.1487 - loss: 1.3819 - val_custom_loss: 1.0837 - val_loss: 1.3164\n",
      "Epoch 6/40\n",
      "\u001b[1m48/48\u001b[0m \u001b[32m━━━━━━━━━━━━━━━━━━━━\u001b[0m\u001b[37m\u001b[0m \u001b[1m3s\u001b[0m 55ms/step - custom_loss: 1.0931 - loss: 1.3259 - val_custom_loss: 1.0474 - val_loss: 1.2799\n",
      "Epoch 7/40\n",
      "\u001b[1m48/48\u001b[0m \u001b[32m━━━━━━━━━━━━━━━━━━━━\u001b[0m\u001b[37m\u001b[0m \u001b[1m3s\u001b[0m 55ms/step - custom_loss: 1.0594 - loss: 1.2917 - val_custom_loss: 1.0178 - val_loss: 1.2501\n",
      "Epoch 8/40\n",
      "\u001b[1m48/48\u001b[0m \u001b[32m━━━━━━━━━━━━━━━━━━━━\u001b[0m\u001b[37m\u001b[0m \u001b[1m3s\u001b[0m 54ms/step - custom_loss: 1.0234 - loss: 1.2552 - val_custom_loss: 0.9931 - val_loss: 1.2252\n",
      "Epoch 9/40\n",
      "\u001b[1m48/48\u001b[0m \u001b[32m━━━━━━━━━━━━━━━━━━━━\u001b[0m\u001b[37m\u001b[0m \u001b[1m3s\u001b[0m 54ms/step - custom_loss: 1.0092 - loss: 1.2406 - val_custom_loss: 0.9724 - val_loss: 1.2043\n",
      "Epoch 10/40\n",
      "\u001b[1m48/48\u001b[0m \u001b[32m━━━━━━━━━━━━━━━━━━━━\u001b[0m\u001b[37m\u001b[0m \u001b[1m3s\u001b[0m 57ms/step - custom_loss: 0.9717 - loss: 1.2027 - val_custom_loss: 0.9551 - val_loss: 1.1868\n",
      "Epoch 11/40\n",
      "\u001b[1m48/48\u001b[0m \u001b[32m━━━━━━━━━━━━━━━━━━━━\u001b[0m\u001b[37m\u001b[0m \u001b[1m3s\u001b[0m 59ms/step - custom_loss: 0.9527 - loss: 1.1832 - val_custom_loss: 0.9407 - val_loss: 1.1720\n",
      "Epoch 12/40\n",
      "\u001b[1m48/48\u001b[0m \u001b[32m━━━━━━━━━━━━━━━━━━━━\u001b[0m\u001b[37m\u001b[0m \u001b[1m3s\u001b[0m 60ms/step - custom_loss: 0.9297 - loss: 1.1599 - val_custom_loss: 0.9284 - val_loss: 1.1595\n",
      "Epoch 13/40\n",
      "\u001b[1m48/48\u001b[0m \u001b[32m━━━━━━━━━━━━━━━━━━━━\u001b[0m\u001b[37m\u001b[0m \u001b[1m3s\u001b[0m 61ms/step - custom_loss: 0.9102 - loss: 1.1399 - val_custom_loss: 0.9182 - val_loss: 1.1490\n",
      "Epoch 14/40\n",
      "\u001b[1m48/48\u001b[0m \u001b[32m━━━━━━━━━━━━━━━━━━━━\u001b[0m\u001b[37m\u001b[0m \u001b[1m3s\u001b[0m 59ms/step - custom_loss: 0.9053 - loss: 1.1347 - val_custom_loss: 0.9094 - val_loss: 1.1399\n",
      "Epoch 15/40\n",
      "\u001b[1m48/48\u001b[0m \u001b[32m━━━━━━━━━━━━━━━━━━━━\u001b[0m\u001b[37m\u001b[0m \u001b[1m3s\u001b[0m 59ms/step - custom_loss: 0.8767 - loss: 1.1054 - val_custom_loss: 0.9019 - val_loss: 1.1320\n",
      "Epoch 16/40\n",
      "\u001b[1m48/48\u001b[0m \u001b[32m━━━━━━━━━━━━━━━━━━━━\u001b[0m\u001b[37m\u001b[0m \u001b[1m3s\u001b[0m 58ms/step - custom_loss: 0.8828 - loss: 1.1113 - val_custom_loss: 0.8950 - val_loss: 1.1248\n",
      "Epoch 17/40\n",
      "\u001b[1m48/48\u001b[0m \u001b[32m━━━━━━━━━━━━━━━━━━━━\u001b[0m\u001b[37m\u001b[0m \u001b[1m3s\u001b[0m 65ms/step - custom_loss: 0.8592 - loss: 1.0872 - val_custom_loss: 0.8892 - val_loss: 1.1186\n",
      "Epoch 18/40\n",
      "\u001b[1m48/48\u001b[0m \u001b[32m━━━━━━━━━━━━━━━━━━━━\u001b[0m\u001b[37m\u001b[0m \u001b[1m3s\u001b[0m 60ms/step - custom_loss: 0.8528 - loss: 1.0805 - val_custom_loss: 0.8840 - val_loss: 1.1131\n",
      "Epoch 19/40\n",
      "\u001b[1m48/48\u001b[0m \u001b[32m━━━━━━━━━━━━━━━━━━━━\u001b[0m\u001b[37m\u001b[0m \u001b[1m3s\u001b[0m 55ms/step - custom_loss: 0.8427 - loss: 1.0700 - val_custom_loss: 0.8795 - val_loss: 1.1081\n",
      "Epoch 20/40\n",
      "\u001b[1m48/48\u001b[0m \u001b[32m━━━━━━━━━━━━━━━━━━━━\u001b[0m\u001b[37m\u001b[0m \u001b[1m3s\u001b[0m 56ms/step - custom_loss: 0.8390 - loss: 1.0658 - val_custom_loss: 0.8753 - val_loss: 1.1035\n",
      "Epoch 21/40\n",
      "\u001b[1m48/48\u001b[0m \u001b[32m━━━━━━━━━━━━━━━━━━━━\u001b[0m\u001b[37m\u001b[0m \u001b[1m3s\u001b[0m 59ms/step - custom_loss: 0.8406 - loss: 1.0669 - val_custom_loss: 0.8714 - val_loss: 1.0992\n",
      "Epoch 22/40\n",
      "\u001b[1m48/48\u001b[0m \u001b[32m━━━━━━━━━━━━━━━━━━━━\u001b[0m\u001b[37m\u001b[0m \u001b[1m3s\u001b[0m 57ms/step - custom_loss: 0.8325 - loss: 1.0585 - val_custom_loss: 0.8680 - val_loss: 1.0954\n",
      "Epoch 23/40\n",
      "\u001b[1m48/48\u001b[0m \u001b[32m━━━━━━━━━━━━━━━━━━━━\u001b[0m\u001b[37m\u001b[0m \u001b[1m3s\u001b[0m 53ms/step - custom_loss: 0.8101 - loss: 1.0358 - val_custom_loss: 0.8648 - val_loss: 1.0919\n",
      "Epoch 24/40\n",
      "\u001b[1m48/48\u001b[0m \u001b[32m━━━━━━━━━━━━━━━━━━━━\u001b[0m\u001b[37m\u001b[0m \u001b[1m3s\u001b[0m 55ms/step - custom_loss: 0.8144 - loss: 1.0396 - val_custom_loss: 0.8617 - val_loss: 1.0884\n",
      "Epoch 25/40\n",
      "\u001b[1m48/48\u001b[0m \u001b[32m━━━━━━━━━━━━━━━━━━━━\u001b[0m\u001b[37m\u001b[0m \u001b[1m3s\u001b[0m 55ms/step - custom_loss: 0.8064 - loss: 1.0313 - val_custom_loss: 0.8588 - val_loss: 1.0851\n",
      "Epoch 26/40\n",
      "\u001b[1m48/48\u001b[0m \u001b[32m━━━━━━━━━━━━━━━━━━━━\u001b[0m\u001b[37m\u001b[0m \u001b[1m3s\u001b[0m 56ms/step - custom_loss: 0.8016 - loss: 1.0262 - val_custom_loss: 0.8563 - val_loss: 1.0821\n",
      "Epoch 27/40\n",
      "\u001b[1m48/48\u001b[0m \u001b[32m━━━━━━━━━━━━━━━━━━━━\u001b[0m\u001b[37m\u001b[0m \u001b[1m3s\u001b[0m 54ms/step - custom_loss: 0.7957 - loss: 1.0197 - val_custom_loss: 0.8539 - val_loss: 1.0794\n",
      "Epoch 28/40\n",
      "\u001b[1m48/48\u001b[0m \u001b[32m━━━━━━━━━━━━━━━━━━━━\u001b[0m\u001b[37m\u001b[0m \u001b[1m3s\u001b[0m 57ms/step - custom_loss: 0.7882 - loss: 1.0119 - val_custom_loss: 0.8516 - val_loss: 1.0766\n",
      "Epoch 29/40\n",
      "\u001b[1m48/48\u001b[0m \u001b[32m━━━━━━━━━━━━━━━━━━━━\u001b[0m\u001b[37m\u001b[0m \u001b[1m3s\u001b[0m 57ms/step - custom_loss: 0.7823 - loss: 1.0057 - val_custom_loss: 0.8494 - val_loss: 1.0740\n",
      "Epoch 30/40\n",
      "\u001b[1m48/48\u001b[0m \u001b[32m━━━━━━━━━━━━━━━━━━━━\u001b[0m\u001b[37m\u001b[0m \u001b[1m3s\u001b[0m 56ms/step - custom_loss: 0.7860 - loss: 1.0089 - val_custom_loss: 0.8472 - val_loss: 1.0715\n",
      "Epoch 31/40\n",
      "\u001b[1m48/48\u001b[0m \u001b[32m━━━━━━━━━━━━━━━━━━━━\u001b[0m\u001b[37m\u001b[0m \u001b[1m3s\u001b[0m 56ms/step - custom_loss: 0.7717 - loss: 0.9943 - val_custom_loss: 0.8452 - val_loss: 1.0691\n",
      "Epoch 32/40\n",
      "\u001b[1m48/48\u001b[0m \u001b[32m━━━━━━━━━━━━━━━━━━━━\u001b[0m\u001b[37m\u001b[0m \u001b[1m3s\u001b[0m 57ms/step - custom_loss: 0.7786 - loss: 1.0008 - val_custom_loss: 0.8432 - val_loss: 1.0667\n",
      "Epoch 33/40\n",
      "\u001b[1m48/48\u001b[0m \u001b[32m━━━━━━━━━━━━━━━━━━━━\u001b[0m\u001b[37m\u001b[0m \u001b[1m3s\u001b[0m 55ms/step - custom_loss: 0.7648 - loss: 0.9867 - val_custom_loss: 0.8414 - val_loss: 1.0645\n",
      "Epoch 34/40\n",
      "\u001b[1m48/48\u001b[0m \u001b[32m━━━━━━━━━━━━━━━━━━━━\u001b[0m\u001b[37m\u001b[0m \u001b[1m3s\u001b[0m 54ms/step - custom_loss: 0.7599 - loss: 0.9812 - val_custom_loss: 0.8397 - val_loss: 1.0624\n",
      "Epoch 35/40\n",
      "\u001b[1m48/48\u001b[0m \u001b[32m━━━━━━━━━━━━━━━━━━━━\u001b[0m\u001b[37m\u001b[0m \u001b[1m3s\u001b[0m 53ms/step - custom_loss: 0.7566 - loss: 0.9777 - val_custom_loss: 0.8379 - val_loss: 1.0602\n",
      "Epoch 36/40\n",
      "\u001b[1m48/48\u001b[0m \u001b[32m━━━━━━━━━━━━━━━━━━━━\u001b[0m\u001b[37m\u001b[0m \u001b[1m3s\u001b[0m 54ms/step - custom_loss: 0.7585 - loss: 0.9791 - val_custom_loss: 0.8362 - val_loss: 1.0581\n",
      "Epoch 37/40\n",
      "\u001b[1m48/48\u001b[0m \u001b[32m━━━━━━━━━━━━━━━━━━━━\u001b[0m\u001b[37m\u001b[0m \u001b[1m3s\u001b[0m 54ms/step - custom_loss: 0.7553 - loss: 0.9755 - val_custom_loss: 0.8345 - val_loss: 1.0561\n",
      "Epoch 38/40\n",
      "\u001b[1m48/48\u001b[0m \u001b[32m━━━━━━━━━━━━━━━━━━━━\u001b[0m\u001b[37m\u001b[0m \u001b[1m3s\u001b[0m 53ms/step - custom_loss: 0.7514 - loss: 0.9713 - val_custom_loss: 0.8330 - val_loss: 1.0541\n",
      "Epoch 39/40\n",
      "\u001b[1m48/48\u001b[0m \u001b[32m━━━━━━━━━━━━━━━━━━━━\u001b[0m\u001b[37m\u001b[0m \u001b[1m3s\u001b[0m 54ms/step - custom_loss: 0.7499 - loss: 0.9694 - val_custom_loss: 0.8314 - val_loss: 1.0522\n",
      "Epoch 40/40\n",
      "\u001b[1m48/48\u001b[0m \u001b[32m━━━━━━━━━━━━━━━━━━━━\u001b[0m\u001b[37m\u001b[0m \u001b[1m3s\u001b[0m 55ms/step - custom_loss: 0.7438 - loss: 0.9630 - val_custom_loss: 0.8299 - val_loss: 1.0503\n"
     ]
    }
   ],
   "source": [
    "r = model.fit(\n",
    "    generator(A, mask),\n",
    "    validation_data=test_generator(A_copy, mask_copy, A_test_copy, mask_test_copy),\n",
    "    epochs=40,\n",
    "    steps_per_epoch=A.shape[0] // batch_size + 1,\n",
    "    validation_steps=A_test.shape[0] // batch_size + 1,\n",
    ")"
   ]
  },
  {
   "cell_type": "code",
   "execution_count": 84,
   "metadata": {},
   "outputs": [
    {
     "data": {
      "image/png": "[encoded data removed]",
      "text/plain": [
       "<Figure size 640x480 with 1 Axes>"
      ]
     },
     "metadata": {},
     "output_type": "display_data"
    }
   ],
   "source": [
    "# plot losses\n",
    "plt.plot(r.history['loss'], label=\"train loss\")\n",
    "plt.plot(r.history['val_loss'], label=\"test loss\")\n",
    "plt.legend()\n",
    "plt.show()\n"
   ]
  },
  {
   "cell_type": "code",
   "execution_count": 85,
   "metadata": {},
   "outputs": [
    {
     "data": {
      "image/png": "[encoded data removed]",
      "text/plain": [
       "<Figure size 640x480 with 1 Axes>"
      ]
     },
     "metadata": {},
     "output_type": "display_data"
    }
   ],
   "source": [
    "# plot mse\n",
    "plt.plot(r.history['custom_loss'], label=\"train mse\")\n",
    "plt.plot(r.history['val_custom_loss'], label=\"test mse\")\n",
    "plt.legend()\n",
    "plt.show()"
   ]
  },
  {
   "cell_type": "code",
   "execution_count": 86,
   "metadata": {},
   "outputs": [
    {
     "name": "stderr",
     "output_type": "stream",
     "text": [
      "WARNING:absl:You are saving your model as an HDF5 file via `model.save()` or `keras.saving.save_model(model)`. This file format is considered legacy. We recommend using instead the native Keras format, e.g. `model.save('my_model.keras')` or `keras.saving.save_model(model, 'my_model.keras')`. \n"
     ]
    }
   ],
   "source": [
    "model.save('model_AutoEncoder.h5') "
   ]
  },
  {
   "cell_type": "markdown",
   "metadata": {},
   "source": [
    "# single prediction "
   ]
  },
  {
   "cell_type": "code",
   "execution_count": 1,
   "metadata": {},
   "outputs": [],
   "source": [
    "from tensorflow.keras.models import load_model"
   ]
  },
  {
   "cell_type": "code",
   "execution_count": 4,
   "metadata": {},
   "outputs": [],
   "source": [
    "def custom_loss(y_true, y_pred):\n",
    "    y_true = tf.cast(y_true, dtype=tf.float32)  # Ensure y_true is float32\n",
    "    mask = tf.cast(tf.not_equal(y_true, 0), dtype=tf.float32)\n",
    "    diff = y_pred - y_true\n",
    "    sqdiff = diff * diff * mask\n",
    "    sse = tf.reduce_sum(sqdiff)\n",
    "    n = tf.reduce_sum(mask)\n",
    "    return sse / n"
   ]
  },
  {
   "cell_type": "code",
   "execution_count": 5,
   "metadata": {},
   "outputs": [
    {
     "name": "stderr",
     "output_type": "stream",
     "text": [
      "WARNING:absl:Compiled the loaded model, but the compiled metrics have yet to be built. `model.compile_metrics` will be empty until you train or evaluate the model.\n"
     ]
    }
   ],
   "source": [
    "# Load the model\n",
    "model = load_model('model_AutoEncoder.h5', custom_objects={'custom_loss': custom_loss})\n",
    "\n",
    "A = load_npz(\"Atrain.npz\")\n",
    "\n",
    "with open('mu.pkl', 'rb') as f:\n",
    "  mu = pickle.load(f)"
   ]
  },
  {
   "cell_type": "code",
   "execution_count": 140,
   "metadata": {},
   "outputs": [],
   "source": [
    "# def predict_rating(user_id, movie_id, A, mask, model, mu):\n",
    "\n",
    "#     # Extract the specific row (user's interactions)\n",
    "#     A_single = A[user_id].toarray()  # Convert to dense array\n",
    "\n",
    "#     # mask_single = mask[user_id].toarray()  # Mask for that user\n",
    "    \n",
    "#     # Preprocess the input (subtract the mean where mask is 1)\n",
    "#     # A_single_processed = A_single - mu * mask_single\n",
    "\n",
    "#     A_single_processed = A_single - mu\n",
    "    \n",
    "#     # Make a prediction for the entire row (all movies for this user)\n",
    "#     prediction = model.predict(A_single_processed.reshape(1, -1))\n",
    "    \n",
    "#     # Add the mean back to the predicted values\n",
    "#     prediction_rescaled = prediction + mu \n",
    "    \n",
    "#     # Return the predicted rating for the specific movie\n",
    "#     predicted_rating = prediction_rescaled[0, movie_id]\n",
    "    \n",
    "#     return predicted_rating"
   ]
  },
  {
   "cell_type": "code",
   "execution_count": 6,
   "metadata": {},
   "outputs": [],
   "source": [
    "def predict_rating(user_id, movie_id, model, A, mu):\n",
    "    # Get the user ratings (row for user_id)\n",
    "    user_ratings = A[user_id].toarray()  # Convert sparse matrix to dense if necessary\n",
    "    \n",
    "    # Center the data (subtract the global average, mu)\n",
    "    user_ratings = user_ratings - mu * (user_ratings > 0)\n",
    "    \n",
    "    # Get the prediction for this user (entire row)\n",
    "    user_prediction = model.predict(user_ratings)\n",
    "\n",
    "    prediction_rescaled = user_prediction + mu\n",
    "    \n",
    "    # Retrieve the predicted rating for the specific movie_id\n",
    "    predicted_rating = prediction_rescaled[0][movie_id]\n",
    "    \n",
    "    return predicted_rating"
   ]
  },
  {
   "cell_type": "code",
   "execution_count": 7,
   "metadata": {},
   "outputs": [],
   "source": [
    "def existence(user_id , movie_id):\n",
    "    rate=df[(df.User == user_id) & (df.movie_idx == movie_id)].Rating.values\n",
    "    if len(rate)!=0:\n",
    "            print(f\"{(user_id, movie_id)} exists in the data with value : {rate[0]} \")\n",
    "    else:\n",
    "            print(f\"{(user_id, movie_id)} does not exist in the data \")"
   ]
  },
  {
   "cell_type": "code",
   "execution_count": 10,
   "metadata": {},
   "outputs": [
    {
     "name": "stdout",
     "output_type": "stream",
     "text": [
      "\u001b[1m1/1\u001b[0m \u001b[32m━━━━━━━━━━━━━━━━━━━━\u001b[0m\u001b[37m\u001b[0m \u001b[1m0s\u001b[0m 20ms/step\n",
      "3.60909\n",
      "(1381, 46) does not exist in the data \n"
     ]
    }
   ],
   "source": [
    "print(predict_rating(1381, 46, model, A, mu))\n",
    "existence(1381, 46)"
   ]
  },
  {
   "cell_type": "code",
   "execution_count": 11,
   "metadata": {},
   "outputs": [
    {
     "name": "stdout",
     "output_type": "stream",
     "text": [
      "\u001b[1m1/1\u001b[0m \u001b[32m━━━━━━━━━━━━━━━━━━━━\u001b[0m\u001b[37m\u001b[0m \u001b[1m0s\u001b[0m 16ms/step\n",
      "3.8649185\n",
      "(5773, 863) exists in the data with value : 4 \n"
     ]
    }
   ],
   "source": [
    "print(predict_rating(5773, 863, model, A, mu))\n",
    "existence(5773  , 863)"
   ]
  },
  {
   "cell_type": "code",
   "execution_count": 12,
   "metadata": {},
   "outputs": [
    {
     "name": "stdout",
     "output_type": "stream",
     "text": [
      "\u001b[1m1/1\u001b[0m \u001b[32m━━━━━━━━━━━━━━━━━━━━\u001b[0m\u001b[37m\u001b[0m \u001b[1m0s\u001b[0m 15ms/step\n",
      "3.2492728\n",
      "(128, 497) exists in the data with value : 4 \n"
     ]
    }
   ],
   "source": [
    "print(predict_rating(128, 497, model, A, mu))\n",
    "existence(128, 497)"
   ]
  },
  {
   "cell_type": "code",
   "execution_count": 15,
   "metadata": {},
   "outputs": [
    {
     "data": {
      "text/html": [
       "<div>\n",
       "<style scoped>\n",
       "    .dataframe tbody tr th:only-of-type {\n",
       "        vertical-align: middle;\n",
       "    }\n",
       "\n",
       "    .dataframe tbody tr th {\n",
       "        vertical-align: top;\n",
       "    }\n",
       "\n",
       "    .dataframe thead th {\n",
       "        text-align: right;\n",
       "    }\n",
       "</style>\n",
       "<table border=\"1\" class=\"dataframe\">\n",
       "  <thead>\n",
       "    <tr style=\"text-align: right;\">\n",
       "      <th></th>\n",
       "      <th>User</th>\n",
       "      <th>Movie</th>\n",
       "      <th>Rating</th>\n",
       "      <th>movie_idx</th>\n",
       "    </tr>\n",
       "  </thead>\n",
       "  <tbody>\n",
       "    <tr>\n",
       "      <th>355819</th>\n",
       "      <td>2910</td>\n",
       "      <td>3615</td>\n",
       "      <td>5</td>\n",
       "      <td>3375</td>\n",
       "    </tr>\n",
       "    <tr>\n",
       "      <th>21438</th>\n",
       "      <td>196</td>\n",
       "      <td>3147</td>\n",
       "      <td>4</td>\n",
       "      <td>2931</td>\n",
       "    </tr>\n",
       "    <tr>\n",
       "      <th>551203</th>\n",
       "      <td>4387</td>\n",
       "      <td>3175</td>\n",
       "      <td>4</td>\n",
       "      <td>2958</td>\n",
       "    </tr>\n",
       "    <tr>\n",
       "      <th>265120</th>\n",
       "      <td>2070</td>\n",
       "      <td>3510</td>\n",
       "      <td>3</td>\n",
       "      <td>3277</td>\n",
       "    </tr>\n",
       "    <tr>\n",
       "      <th>900783</th>\n",
       "      <td>3664</td>\n",
       "      <td>364</td>\n",
       "      <td>5</td>\n",
       "      <td>354</td>\n",
       "    </tr>\n",
       "    <tr>\n",
       "      <th>1566</th>\n",
       "      <td>17</td>\n",
       "      <td>421</td>\n",
       "      <td>4</td>\n",
       "      <td>407</td>\n",
       "    </tr>\n",
       "    <tr>\n",
       "      <th>649830</th>\n",
       "      <td>5224</td>\n",
       "      <td>372</td>\n",
       "      <td>4</td>\n",
       "      <td>362</td>\n",
       "    </tr>\n",
       "    <tr>\n",
       "      <th>668926</th>\n",
       "      <td>5386</td>\n",
       "      <td>2363</td>\n",
       "      <td>3</td>\n",
       "      <td>2170</td>\n",
       "    </tr>\n",
       "    <tr>\n",
       "      <th>947002</th>\n",
       "      <td>4707</td>\n",
       "      <td>1007</td>\n",
       "      <td>2</td>\n",
       "      <td>942</td>\n",
       "    </tr>\n",
       "    <tr>\n",
       "      <th>726423</th>\n",
       "      <td>5837</td>\n",
       "      <td>1230</td>\n",
       "      <td>4</td>\n",
       "      <td>1139</td>\n",
       "    </tr>\n",
       "    <tr>\n",
       "      <th>748806</th>\n",
       "      <td>6034</td>\n",
       "      <td>3527</td>\n",
       "      <td>2</td>\n",
       "      <td>3294</td>\n",
       "    </tr>\n",
       "    <tr>\n",
       "      <th>632898</th>\n",
       "      <td>5073</td>\n",
       "      <td>3821</td>\n",
       "      <td>2</td>\n",
       "      <td>3577</td>\n",
       "    </tr>\n",
       "    <tr>\n",
       "      <th>891863</th>\n",
       "      <td>3478</td>\n",
       "      <td>2858</td>\n",
       "      <td>5</td>\n",
       "      <td>2651</td>\n",
       "    </tr>\n",
       "    <tr>\n",
       "      <th>425829</th>\n",
       "      <td>3482</td>\n",
       "      <td>1234</td>\n",
       "      <td>5</td>\n",
       "      <td>1143</td>\n",
       "    </tr>\n",
       "    <tr>\n",
       "      <th>622631</th>\n",
       "      <td>4983</td>\n",
       "      <td>800</td>\n",
       "      <td>5</td>\n",
       "      <td>754</td>\n",
       "    </tr>\n",
       "    <tr>\n",
       "      <th>681028</th>\n",
       "      <td>5492</td>\n",
       "      <td>3897</td>\n",
       "      <td>5</td>\n",
       "      <td>3651</td>\n",
       "    </tr>\n",
       "    <tr>\n",
       "      <th>462021</th>\n",
       "      <td>3728</td>\n",
       "      <td>2470</td>\n",
       "      <td>3</td>\n",
       "      <td>2277</td>\n",
       "    </tr>\n",
       "    <tr>\n",
       "      <th>940244</th>\n",
       "      <td>4516</td>\n",
       "      <td>832</td>\n",
       "      <td>3</td>\n",
       "      <td>780</td>\n",
       "    </tr>\n",
       "    <tr>\n",
       "      <th>559898</th>\n",
       "      <td>4453</td>\n",
       "      <td>2023</td>\n",
       "      <td>3</td>\n",
       "      <td>1843</td>\n",
       "    </tr>\n",
       "    <tr>\n",
       "      <th>860800</th>\n",
       "      <td>2725</td>\n",
       "      <td>2028</td>\n",
       "      <td>5</td>\n",
       "      <td>1848</td>\n",
       "    </tr>\n",
       "  </tbody>\n",
       "</table>\n",
       "</div>"
      ],
      "text/plain": [
       "        User  Movie  Rating  movie_idx\n",
       "355819  2910   3615       5       3375\n",
       "21438    196   3147       4       2931\n",
       "551203  4387   3175       4       2958\n",
       "265120  2070   3510       3       3277\n",
       "900783  3664    364       5        354\n",
       "1566      17    421       4        407\n",
       "649830  5224    372       4        362\n",
       "668926  5386   2363       3       2170\n",
       "947002  4707   1007       2        942\n",
       "726423  5837   1230       4       1139\n",
       "748806  6034   3527       2       3294\n",
       "632898  5073   3821       2       3577\n",
       "891863  3478   2858       5       2651\n",
       "425829  3482   1234       5       1143\n",
       "622631  4983    800       5        754\n",
       "681028  5492   3897       5       3651\n",
       "462021  3728   2470       3       2277\n",
       "940244  4516    832       3        780\n",
       "559898  4453   2023       3       1843\n",
       "860800  2725   2028       5       1848"
      ]
     },
     "execution_count": 15,
     "metadata": {},
     "output_type": "execute_result"
    }
   ],
   "source": [
    "df_train.head(20)"
   ]
  },
  {
   "cell_type": "code",
   "execution_count": 16,
   "metadata": {},
   "outputs": [
    {
     "name": "stdout",
     "output_type": "stream",
     "text": [
      "\u001b[1m1/1\u001b[0m \u001b[32m━━━━━━━━━━━━━━━━━━━━\u001b[0m\u001b[37m\u001b[0m \u001b[1m0s\u001b[0m 17ms/step\n",
      "3.7919502\n",
      "(4121, 3461) exists in the data with value : 3 \n"
     ]
    }
   ],
   "source": [
    "print(predict_rating(4121, 3461, model, A, mu))\n",
    "existence(4121, 3461)"
   ]
  },
  {
   "cell_type": "code",
   "execution_count": 17,
   "metadata": {},
   "outputs": [
    {
     "data": {
      "text/html": [
       "<div>\n",
       "<style scoped>\n",
       "    .dataframe tbody tr th:only-of-type {\n",
       "        vertical-align: middle;\n",
       "    }\n",
       "\n",
       "    .dataframe tbody tr th {\n",
       "        vertical-align: top;\n",
       "    }\n",
       "\n",
       "    .dataframe thead th {\n",
       "        text-align: right;\n",
       "    }\n",
       "</style>\n",
       "<table border=\"1\" class=\"dataframe\">\n",
       "  <thead>\n",
       "    <tr style=\"text-align: right;\">\n",
       "      <th></th>\n",
       "      <th>User</th>\n",
       "      <th>Movie</th>\n",
       "      <th>Rating</th>\n",
       "      <th>movie_idx</th>\n",
       "    </tr>\n",
       "  </thead>\n",
       "  <tbody>\n",
       "    <tr>\n",
       "      <th>588444</th>\n",
       "      <td>4681</td>\n",
       "      <td>2010</td>\n",
       "      <td>4</td>\n",
       "      <td>1830</td>\n",
       "    </tr>\n",
       "    <tr>\n",
       "      <th>761425</th>\n",
       "      <td>304</td>\n",
       "      <td>2629</td>\n",
       "      <td>1</td>\n",
       "      <td>2427</td>\n",
       "    </tr>\n",
       "    <tr>\n",
       "      <th>808811</th>\n",
       "      <td>1424</td>\n",
       "      <td>1612</td>\n",
       "      <td>2</td>\n",
       "      <td>1480</td>\n",
       "    </tr>\n",
       "    <tr>\n",
       "      <th>370634</th>\n",
       "      <td>3031</td>\n",
       "      <td>3114</td>\n",
       "      <td>4</td>\n",
       "      <td>2898</td>\n",
       "    </tr>\n",
       "    <tr>\n",
       "      <th>818033</th>\n",
       "      <td>1641</td>\n",
       "      <td>3074</td>\n",
       "      <td>3</td>\n",
       "      <td>2859</td>\n",
       "    </tr>\n",
       "    <tr>\n",
       "      <th>677221</th>\n",
       "      <td>5457</td>\n",
       "      <td>3683</td>\n",
       "      <td>3</td>\n",
       "      <td>3441</td>\n",
       "    </tr>\n",
       "    <tr>\n",
       "      <th>78445</th>\n",
       "      <td>691</td>\n",
       "      <td>70</td>\n",
       "      <td>3</td>\n",
       "      <td>68</td>\n",
       "    </tr>\n",
       "    <tr>\n",
       "      <th>36262</th>\n",
       "      <td>325</td>\n",
       "      <td>1333</td>\n",
       "      <td>3</td>\n",
       "      <td>1236</td>\n",
       "    </tr>\n",
       "    <tr>\n",
       "      <th>851660</th>\n",
       "      <td>2435</td>\n",
       "      <td>3108</td>\n",
       "      <td>4</td>\n",
       "      <td>2892</td>\n",
       "    </tr>\n",
       "    <tr>\n",
       "      <th>182068</th>\n",
       "      <td>1464</td>\n",
       "      <td>3685</td>\n",
       "      <td>4</td>\n",
       "      <td>3443</td>\n",
       "    </tr>\n",
       "    <tr>\n",
       "      <th>23901</th>\n",
       "      <td>215</td>\n",
       "      <td>3076</td>\n",
       "      <td>4</td>\n",
       "      <td>2861</td>\n",
       "    </tr>\n",
       "    <tr>\n",
       "      <th>815215</th>\n",
       "      <td>1591</td>\n",
       "      <td>3435</td>\n",
       "      <td>5</td>\n",
       "      <td>3203</td>\n",
       "    </tr>\n",
       "    <tr>\n",
       "      <th>461914</th>\n",
       "      <td>3727</td>\n",
       "      <td>2502</td>\n",
       "      <td>3</td>\n",
       "      <td>2308</td>\n",
       "    </tr>\n",
       "    <tr>\n",
       "      <th>247666</th>\n",
       "      <td>1947</td>\n",
       "      <td>1242</td>\n",
       "      <td>5</td>\n",
       "      <td>1150</td>\n",
       "    </tr>\n",
       "    <tr>\n",
       "      <th>204182</th>\n",
       "      <td>1644</td>\n",
       "      <td>2355</td>\n",
       "      <td>5</td>\n",
       "      <td>2162</td>\n",
       "    </tr>\n",
       "    <tr>\n",
       "      <th>489855</th>\n",
       "      <td>3936</td>\n",
       "      <td>2571</td>\n",
       "      <td>5</td>\n",
       "      <td>2374</td>\n",
       "    </tr>\n",
       "    <tr>\n",
       "      <th>969358</th>\n",
       "      <td>5298</td>\n",
       "      <td>919</td>\n",
       "      <td>4</td>\n",
       "      <td>858</td>\n",
       "    </tr>\n",
       "    <tr>\n",
       "      <th>337803</th>\n",
       "      <td>2775</td>\n",
       "      <td>2011</td>\n",
       "      <td>3</td>\n",
       "      <td>1831</td>\n",
       "    </tr>\n",
       "    <tr>\n",
       "      <th>667980</th>\n",
       "      <td>5375</td>\n",
       "      <td>527</td>\n",
       "      <td>4</td>\n",
       "      <td>513</td>\n",
       "    </tr>\n",
       "    <tr>\n",
       "      <th>769657</th>\n",
       "      <td>525</td>\n",
       "      <td>2194</td>\n",
       "      <td>4</td>\n",
       "      <td>2013</td>\n",
       "    </tr>\n",
       "  </tbody>\n",
       "</table>\n",
       "</div>"
      ],
      "text/plain": [
       "        User  Movie  Rating  movie_idx\n",
       "588444  4681   2010       4       1830\n",
       "761425   304   2629       1       2427\n",
       "808811  1424   1612       2       1480\n",
       "370634  3031   3114       4       2898\n",
       "818033  1641   3074       3       2859\n",
       "677221  5457   3683       3       3441\n",
       "78445    691     70       3         68\n",
       "36262    325   1333       3       1236\n",
       "851660  2435   3108       4       2892\n",
       "182068  1464   3685       4       3443\n",
       "23901    215   3076       4       2861\n",
       "815215  1591   3435       5       3203\n",
       "461914  3727   2502       3       2308\n",
       "247666  1947   1242       5       1150\n",
       "204182  1644   2355       5       2162\n",
       "489855  3936   2571       5       2374\n",
       "969358  5298    919       4        858\n",
       "337803  2775   2011       3       1831\n",
       "667980  5375    527       4        513\n",
       "769657   525   2194       4       2013"
      ]
     },
     "execution_count": 17,
     "metadata": {},
     "output_type": "execute_result"
    }
   ],
   "source": [
    "df_test.head(20)"
   ]
  },
  {
   "cell_type": "code",
   "execution_count": null,
   "metadata": {},
   "outputs": [],
   "source": []
  }
 ],
 "metadata": {
  "kernelspec": {
   "display_name": "Python 3",
   "language": "python",
   "name": "python3"
  },
  "language_info": {
   "codemirror_mode": {
    "name": "ipython",
    "version": 3
   },
   "file_extension": ".py",
   "mimetype": "text/x-python",
   "name": "python",
   "nbconvert_exporter": "python",
   "pygments_lexer": "ipython3",
   "version": "3.12.0"
  }
 },
 "nbformat": 4,
 "nbformat_minor": 2
}
