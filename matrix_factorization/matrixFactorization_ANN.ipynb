{
 "cells": [
  {
   "cell_type": "code",
   "execution_count": 1,
   "metadata": {},
   "outputs": [],
   "source": [
    "import pandas as pd \n",
    "import pickle\n",
    "import numpy as np\n",
    "import matplotlib.pyplot as plt\n",
    "from collections import Counter\n",
    "from sklearn.utils import shuffle\n",
    "from scipy.sparse import lil_matrix, csr_matrix, save_npz, load_npz\n",
    "from sortedcontainers import SortedList\n",
    "from keras.models import Model\n",
    "from keras.layers import Input, Embedding, Flatten, Dense, Concatenate\n",
    "from keras.layers import Dropout, BatchNormalization, Activation\n",
    "from keras.regularizers import l2\n",
    "from keras.optimizers import SGD, Adam\n"
   ]
  },
  {
   "cell_type": "code",
   "execution_count": 3,
   "metadata": {},
   "outputs": [],
   "source": [
    "df=pd.read_csv('../data/edited_rating.csv')"
   ]
  },
  {
   "cell_type": "code",
   "execution_count": 4,
   "metadata": {},
   "outputs": [
    {
     "name": "stdout",
     "output_type": "stream",
     "text": [
      "6040 3706\n"
     ]
    }
   ],
   "source": [
    "N = df.User.max() + 1 # number of users\n",
    "M = df.movie_idx.max() + 1 # number of movies\n",
    "print(N,M)"
   ]
  },
  {
   "cell_type": "markdown",
   "metadata": {},
   "source": [
    "# Split data \n"
   ]
  },
  {
   "cell_type": "code",
   "execution_count": 5,
   "metadata": {},
   "outputs": [],
   "source": [
    "# split into train and test\n",
    "df = shuffle(df)\n",
    "cutoff = int(0.8*len(df))\n",
    "df_train = df.iloc[:cutoff]\n",
    "df_test = df.iloc[cutoff:]"
   ]
  },
  {
   "cell_type": "markdown",
   "metadata": {},
   "source": [
    "# Model"
   ]
  },
  {
   "cell_type": "code",
   "execution_count": 6,
   "metadata": {},
   "outputs": [],
   "source": [
    "# initialize variables\n",
    "K = 10 # latent dimensionality\n",
    "mu = df_train.Rating.mean() # global average \n",
    "epochs = 15"
   ]
  },
  {
   "cell_type": "code",
   "execution_count": 12,
   "metadata": {},
   "outputs": [],
   "source": [
    "# keras model\n",
    "u = Input(shape=(1,))\n",
    "m = Input(shape=(1,))\n",
    "\n",
    "u_embedding = Embedding(N, K)(u) # (N, 1, K)\n",
    "m_embedding = Embedding(M, K)(m) # (N, 1, K)\n",
    "u_embedding = Flatten()(u_embedding) # (N, K)\n",
    "m_embedding = Flatten()(m_embedding) # (N, K)\n",
    "\n",
    "x = Concatenate()([u_embedding, m_embedding]) # (N, 2K)\n",
    "\n",
    "x = Dense(400)(x)\n",
    "x = BatchNormalization()(x)\n",
    "x = Activation('elu')(x)\n",
    "x = Dropout(0.5)(x)\n",
    "x = Dense(100)(x)\n",
    "x = BatchNormalization()(x)\n",
    "x = Activation('elu')(x)\n",
    "x = Dense(1)(x)"
   ]
  },
  {
   "cell_type": "code",
   "execution_count": 13,
   "metadata": {},
   "outputs": [],
   "source": [
    "model = Model(inputs=[u, m], outputs=x)\n",
    "model.compile(\n",
    "  loss='mse',\n",
    "  optimizer=SGD(learning_rate=0.01, momentum=0.9),\n",
    "  metrics=['mse'],\n",
    ") # loss & metrics are mse -> will not be the same if we use regularization "
   ]
  },
  {
   "cell_type": "code",
   "execution_count": 14,
   "metadata": {},
   "outputs": [
    {
     "name": "stdout",
     "output_type": "stream",
     "text": [
      "Epoch 1/30\n",
      "\u001b[1m6252/6252\u001b[0m \u001b[32m━━━━━━━━━━━━━━━━━━━━\u001b[0m\u001b[37m\u001b[0m \u001b[1m12s\u001b[0m 2ms/step - loss: 0.9858 - mse: 0.9858 - val_loss: 0.8652 - val_mse: 0.8652\n",
      "Epoch 2/30\n",
      "\u001b[1m6252/6252\u001b[0m \u001b[32m━━━━━━━━━━━━━━━━━━━━\u001b[0m\u001b[37m\u001b[0m \u001b[1m12s\u001b[0m 2ms/step - loss: 0.8397 - mse: 0.8397 - val_loss: 0.8257 - val_mse: 0.8257\n",
      "Epoch 3/30\n",
      "\u001b[1m6252/6252\u001b[0m \u001b[32m━━━━━━━━━━━━━━━━━━━━\u001b[0m\u001b[37m\u001b[0m \u001b[1m12s\u001b[0m 2ms/step - loss: 0.8116 - mse: 0.8116 - val_loss: 0.8079 - val_mse: 0.8079\n",
      "Epoch 4/30\n",
      "\u001b[1m6252/6252\u001b[0m \u001b[32m━━━━━━━━━━━━━━━━━━━━\u001b[0m\u001b[37m\u001b[0m \u001b[1m12s\u001b[0m 2ms/step - loss: 0.7962 - mse: 0.7962 - val_loss: 0.8048 - val_mse: 0.8048\n",
      "Epoch 5/30\n",
      "\u001b[1m6252/6252\u001b[0m \u001b[32m━━━━━━━━━━━━━━━━━━━━\u001b[0m\u001b[37m\u001b[0m \u001b[1m12s\u001b[0m 2ms/step - loss: 0.7843 - mse: 0.7843 - val_loss: 0.7927 - val_mse: 0.7927\n",
      "Epoch 6/30\n",
      "\u001b[1m6252/6252\u001b[0m \u001b[32m━━━━━━━━━━━━━━━━━━━━\u001b[0m\u001b[37m\u001b[0m \u001b[1m12s\u001b[0m 2ms/step - loss: 0.7771 - mse: 0.7771 - val_loss: 0.7881 - val_mse: 0.7881\n",
      "Epoch 7/30\n",
      "\u001b[1m6252/6252\u001b[0m \u001b[32m━━━━━━━━━━━━━━━━━━━━\u001b[0m\u001b[37m\u001b[0m \u001b[1m12s\u001b[0m 2ms/step - loss: 0.7700 - mse: 0.7700 - val_loss: 0.7866 - val_mse: 0.7866\n",
      "Epoch 8/30\n",
      "\u001b[1m6252/6252\u001b[0m \u001b[32m━━━━━━━━━━━━━━━━━━━━\u001b[0m\u001b[37m\u001b[0m \u001b[1m12s\u001b[0m 2ms/step - loss: 0.7619 - mse: 0.7619 - val_loss: 0.7818 - val_mse: 0.7818\n",
      "Epoch 9/30\n",
      "\u001b[1m6252/6252\u001b[0m \u001b[32m━━━━━━━━━━━━━━━━━━━━\u001b[0m\u001b[37m\u001b[0m \u001b[1m13s\u001b[0m 2ms/step - loss: 0.7562 - mse: 0.7562 - val_loss: 0.7808 - val_mse: 0.7808\n",
      "Epoch 10/30\n",
      "\u001b[1m6252/6252\u001b[0m \u001b[32m━━━━━━━━━━━━━━━━━━━━\u001b[0m\u001b[37m\u001b[0m \u001b[1m12s\u001b[0m 2ms/step - loss: 0.7560 - mse: 0.7560 - val_loss: 0.7804 - val_mse: 0.7804\n",
      "Epoch 11/30\n",
      "\u001b[1m6252/6252\u001b[0m \u001b[32m━━━━━━━━━━━━━━━━━━━━\u001b[0m\u001b[37m\u001b[0m \u001b[1m12s\u001b[0m 2ms/step - loss: 0.7510 - mse: 0.7510 - val_loss: 0.7751 - val_mse: 0.7751\n",
      "Epoch 12/30\n",
      "\u001b[1m6252/6252\u001b[0m \u001b[32m━━━━━━━━━━━━━━━━━━━━\u001b[0m\u001b[37m\u001b[0m \u001b[1m12s\u001b[0m 2ms/step - loss: 0.7478 - mse: 0.7478 - val_loss: 0.7816 - val_mse: 0.7816\n",
      "Epoch 13/30\n",
      "\u001b[1m6252/6252\u001b[0m \u001b[32m━━━━━━━━━━━━━━━━━━━━\u001b[0m\u001b[37m\u001b[0m \u001b[1m13s\u001b[0m 2ms/step - loss: 0.7470 - mse: 0.7470 - val_loss: 0.7758 - val_mse: 0.7758\n",
      "Epoch 14/30\n",
      "\u001b[1m6252/6252\u001b[0m \u001b[32m━━━━━━━━━━━━━━━━━━━━\u001b[0m\u001b[37m\u001b[0m \u001b[1m14s\u001b[0m 2ms/step - loss: 0.7453 - mse: 0.7453 - val_loss: 0.7767 - val_mse: 0.7767\n",
      "Epoch 15/30\n",
      "\u001b[1m6252/6252\u001b[0m \u001b[32m━━━━━━━━━━━━━━━━━━━━\u001b[0m\u001b[37m\u001b[0m \u001b[1m12s\u001b[0m 2ms/step - loss: 0.7441 - mse: 0.7441 - val_loss: 0.7821 - val_mse: 0.7821\n",
      "Epoch 16/30\n",
      "\u001b[1m6252/6252\u001b[0m \u001b[32m━━━━━━━━━━━━━━━━━━━━\u001b[0m\u001b[37m\u001b[0m \u001b[1m11s\u001b[0m 2ms/step - loss: 0.7438 - mse: 0.7438 - val_loss: 0.7763 - val_mse: 0.7763\n",
      "Epoch 17/30\n",
      "\u001b[1m6252/6252\u001b[0m \u001b[32m━━━━━━━━━━━━━━━━━━━━\u001b[0m\u001b[37m\u001b[0m \u001b[1m12s\u001b[0m 2ms/step - loss: 0.7362 - mse: 0.7362 - val_loss: 0.7800 - val_mse: 0.7800\n",
      "Epoch 18/30\n",
      "\u001b[1m6252/6252\u001b[0m \u001b[32m━━━━━━━━━━━━━━━━━━━━\u001b[0m\u001b[37m\u001b[0m \u001b[1m11s\u001b[0m 2ms/step - loss: 0.7409 - mse: 0.7409 - val_loss: 0.7762 - val_mse: 0.7762\n",
      "Epoch 19/30\n",
      "\u001b[1m6252/6252\u001b[0m \u001b[32m━━━━━━━━━━━━━━━━━━━━\u001b[0m\u001b[37m\u001b[0m \u001b[1m12s\u001b[0m 2ms/step - loss: 0.7368 - mse: 0.7368 - val_loss: 0.7726 - val_mse: 0.7726\n",
      "Epoch 20/30\n",
      "\u001b[1m6252/6252\u001b[0m \u001b[32m━━━━━━━━━━━━━━━━━━━━\u001b[0m\u001b[37m\u001b[0m \u001b[1m11s\u001b[0m 2ms/step - loss: 0.7372 - mse: 0.7372 - val_loss: 0.7761 - val_mse: 0.7761\n",
      "Epoch 21/30\n",
      "\u001b[1m6252/6252\u001b[0m \u001b[32m━━━━━━━━━━━━━━━━━━━━\u001b[0m\u001b[37m\u001b[0m \u001b[1m12s\u001b[0m 2ms/step - loss: 0.7343 - mse: 0.7343 - val_loss: 0.7726 - val_mse: 0.7726\n",
      "Epoch 22/30\n",
      "\u001b[1m6252/6252\u001b[0m \u001b[32m━━━━━━━━━━━━━━━━━━━━\u001b[0m\u001b[37m\u001b[0m \u001b[1m11s\u001b[0m 2ms/step - loss: 0.7305 - mse: 0.7305 - val_loss: 0.7714 - val_mse: 0.7714\n",
      "Epoch 23/30\n",
      "\u001b[1m6252/6252\u001b[0m \u001b[32m━━━━━━━━━━━━━━━━━━━━\u001b[0m\u001b[37m\u001b[0m \u001b[1m11s\u001b[0m 2ms/step - loss: 0.7298 - mse: 0.7298 - val_loss: 0.7740 - val_mse: 0.7740\n",
      "Epoch 24/30\n",
      "\u001b[1m6252/6252\u001b[0m \u001b[32m━━━━━━━━━━━━━━━━━━━━\u001b[0m\u001b[37m\u001b[0m \u001b[1m12s\u001b[0m 2ms/step - loss: 0.7264 - mse: 0.7264 - val_loss: 0.7732 - val_mse: 0.7732\n",
      "Epoch 25/30\n",
      "\u001b[1m6252/6252\u001b[0m \u001b[32m━━━━━━━━━━━━━━━━━━━━\u001b[0m\u001b[37m\u001b[0m \u001b[1m11s\u001b[0m 2ms/step - loss: 0.7273 - mse: 0.7273 - val_loss: 0.7740 - val_mse: 0.7740\n",
      "Epoch 26/30\n",
      "\u001b[1m6252/6252\u001b[0m \u001b[32m━━━━━━━━━━━━━━━━━━━━\u001b[0m\u001b[37m\u001b[0m \u001b[1m12s\u001b[0m 2ms/step - loss: 0.7253 - mse: 0.7253 - val_loss: 0.7682 - val_mse: 0.7682\n",
      "Epoch 27/30\n",
      "\u001b[1m6252/6252\u001b[0m \u001b[32m━━━━━━━━━━━━━━━━━━━━\u001b[0m\u001b[37m\u001b[0m \u001b[1m12s\u001b[0m 2ms/step - loss: 0.7255 - mse: 0.7255 - val_loss: 0.7729 - val_mse: 0.7729\n",
      "Epoch 28/30\n",
      "\u001b[1m6252/6252\u001b[0m \u001b[32m━━━━━━━━━━━━━━━━━━━━\u001b[0m\u001b[37m\u001b[0m \u001b[1m12s\u001b[0m 2ms/step - loss: 0.7216 - mse: 0.7216 - val_loss: 0.7702 - val_mse: 0.7702\n",
      "Epoch 29/30\n",
      "\u001b[1m6252/6252\u001b[0m \u001b[32m━━━━━━━━━━━━━━━━━━━━\u001b[0m\u001b[37m\u001b[0m \u001b[1m11s\u001b[0m 2ms/step - loss: 0.7168 - mse: 0.7168 - val_loss: 0.7709 - val_mse: 0.7709\n",
      "Epoch 30/30\n",
      "\u001b[1m6252/6252\u001b[0m \u001b[32m━━━━━━━━━━━━━━━━━━━━\u001b[0m\u001b[37m\u001b[0m \u001b[1m12s\u001b[0m 2ms/step - loss: 0.7130 - mse: 0.7130 - val_loss: 0.7777 - val_mse: 0.7777\n"
     ]
    }
   ],
   "source": [
    "history = model.fit(\n",
    "  x=[df_train.User.values, df_train.movie_idx.values],\n",
    "  y=df_train.Rating.values - mu,\n",
    "  epochs=30,\n",
    "  batch_size=128,\n",
    "  validation_data=(\n",
    "    [df_test.User.values, df_test.movie_idx.values],\n",
    "    df_test.Rating.values - mu\n",
    "  )\n",
    ")"
   ]
  },
  {
   "cell_type": "code",
   "execution_count": 15,
   "metadata": {},
   "outputs": [
    {
     "data": {
      "image/png": "[encoded data removed]",
      "text/plain": [
       "<Figure size 640x480 with 1 Axes>"
      ]
     },
     "metadata": {},
     "output_type": "display_data"
    }
   ],
   "source": [
    "# plot losses\n",
    "plt.plot(history.history['loss'], label=\"train loss\")\n",
    "plt.plot(history.history['val_loss'], label=\"test loss\")\n",
    "plt.legend()\n",
    "plt.show()\n"
   ]
  },
  {
   "cell_type": "code",
   "execution_count": 16,
   "metadata": {},
   "outputs": [
    {
     "data": {
      "image/png": "[encoded data removed]",
      "text/plain": [
       "<Figure size 640x480 with 1 Axes>"
      ]
     },
     "metadata": {},
     "output_type": "display_data"
    }
   ],
   "source": [
    "# plot mse\n",
    "plt.plot(history.history['mse'], label=\"train mse\")\n",
    "plt.plot(history.history['val_mse'], label=\"test mse\")\n",
    "plt.legend()\n",
    "plt.show()"
   ]
  },
  {
   "cell_type": "code",
   "execution_count": 17,
   "metadata": {},
   "outputs": [
    {
     "name": "stderr",
     "output_type": "stream",
     "text": [
      "WARNING:absl:You are saving your model as an HDF5 file via `model.save()` or `keras.saving.save_model(model)`. This file format is considered legacy. We recommend using instead the native Keras format, e.g. `model.save('my_model.keras')` or `keras.saving.save_model(model, 'my_model.keras')`. \n"
     ]
    }
   ],
   "source": [
    "model.save('MF_model_ANN.h5') "
   ]
  },
  {
   "cell_type": "markdown",
   "metadata": {},
   "source": [
    "# single prediction "
   ]
  },
  {
   "cell_type": "code",
   "execution_count": 18,
   "metadata": {},
   "outputs": [],
   "source": [
    "from tensorflow.keras.models import load_model\n",
    "from tensorflow.keras.metrics import MeanSquaredError"
   ]
  },
  {
   "cell_type": "code",
   "execution_count": 19,
   "metadata": {},
   "outputs": [
    {
     "name": "stderr",
     "output_type": "stream",
     "text": [
      "WARNING:absl:Compiled the loaded model, but the compiled metrics have yet to be built. `model.compile_metrics` will be empty until you train or evaluate the model.\n"
     ]
    }
   ],
   "source": [
    "model = load_model('MF_model_ANN.h5', custom_objects={'mse': MeanSquaredError()})\n",
    "\n",
    "with open('mu.pkl', 'rb') as f:\n",
    "  mu = pickle.load(f)"
   ]
  },
  {
   "cell_type": "code",
   "execution_count": 20,
   "metadata": {},
   "outputs": [],
   "source": [
    "def predict_single_rating(model, user_id, movie_id, mu):\n",
    "    \"\"\"\n",
    "    Function to predict the rating for a specific user and movie.\n",
    "    \n",
    "    Parameters:\n",
    "    - model: Trained Keras model\n",
    "    - user_id: ID of the user (int)\n",
    "    - movie_id: ID of the movie (int)\n",
    "    - mu: Global mean rating (float)\n",
    "    \n",
    "    Returns:\n",
    "    - final_predicted_rating: Predicted rating (float)\n",
    "    \"\"\"\n",
    "    # Prepare inputs for the model (as arrays)\n",
    "    user_input = np.array([user_id])  # Shape should be (1,)\n",
    "    movie_input = np.array([movie_id])  # Shape should be (1,)\n",
    "\n",
    "    # Predict the rating deviation from the mean\n",
    "    predicted_rating = model.predict([user_input, movie_input])\n",
    "\n",
    "    # Add the global mean rating back to the prediction\n",
    "    final_predicted_rating = predicted_rating[0][0] + mu\n",
    "\n",
    "    return final_predicted_rating"
   ]
  },
  {
   "cell_type": "code",
   "execution_count": 21,
   "metadata": {},
   "outputs": [],
   "source": [
    "def existence(user_id , movie_id):\n",
    "    rate=df[(df.User == user_id) & (df.movie_idx == movie_id)].Rating.values\n",
    "    if len(rate)!=0:\n",
    "            print(f\"{(user_id, movie_id)} exists in the data with value : {rate[0]} \")\n",
    "    else:\n",
    "            print(f\"{(user_id, movie_id)} does not exist in the data \")"
   ]
  },
  {
   "cell_type": "code",
   "execution_count": 22,
   "metadata": {},
   "outputs": [
    {
     "name": "stdout",
     "output_type": "stream",
     "text": [
      "\u001b[1m1/1\u001b[0m \u001b[32m━━━━━━━━━━━━━━━━━━━━\u001b[0m\u001b[37m\u001b[0m \u001b[1m0s\u001b[0m 89ms/step\n",
      "3.583090409714545\n",
      "(799, 100) does not exist in the data \n"
     ]
    }
   ],
   "source": [
    "print(predict_single_rating(model, 799, 100, mu))\n",
    "existence(799, 100)"
   ]
  },
  {
   "cell_type": "code",
   "execution_count": 34,
   "metadata": {},
   "outputs": [
    {
     "name": "stdout",
     "output_type": "stream",
     "text": [
      "\u001b[1m1/1\u001b[0m \u001b[32m━━━━━━━━━━━━━━━━━━━━\u001b[0m\u001b[37m\u001b[0m \u001b[1m0s\u001b[0m 18ms/step\n",
      "2.850838050324286\n",
      "(1161, 1574) exists in the data with value : 3 \n"
     ]
    }
   ],
   "source": [
    "print(predict_single_rating(model, 1161, 1574, mu))\n",
    "existence(1161  , 1574)"
   ]
  },
  {
   "cell_type": "code",
   "execution_count": 24,
   "metadata": {},
   "outputs": [
    {
     "name": "stdout",
     "output_type": "stream",
     "text": [
      "\u001b[1m1/1\u001b[0m \u001b[32m━━━━━━━━━━━━━━━━━━━━\u001b[0m\u001b[37m\u001b[0m \u001b[1m0s\u001b[0m 16ms/step\n",
      "3.168988272625769\n",
      "(203, 3256) exists in the data with value : 3 \n"
     ]
    }
   ],
   "source": [
    "print(predict_single_rating(model, 203, 3256, mu))\n",
    "existence(203, 3256)"
   ]
  },
  {
   "cell_type": "code",
   "execution_count": null,
   "metadata": {},
   "outputs": [],
   "source": []
  }
 ],
 "metadata": {
  "kernelspec": {
   "display_name": "Python 3",
   "language": "python",
   "name": "python3"
  },
  "language_info": {
   "codemirror_mode": {
    "name": "ipython",
    "version": 3
   },
   "file_extension": ".py",
   "mimetype": "text/x-python",
   "name": "python",
   "nbconvert_exporter": "python",
   "pygments_lexer": "ipython3",
   "version": "3.12.0"
  }
 },
 "nbformat": 4,
 "nbformat_minor": 2
}
